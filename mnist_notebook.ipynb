{
  "cells": [
    {
      "cell_type": "code",
      "execution_count": 5,
      "id": "b6076c42",
      "metadata": {
        "execution": {
          "iopub.execute_input": "2022-04-28T12:55:05.401729Z",
          "iopub.status.busy": "2022-04-28T12:55:05.401163Z",
          "iopub.status.idle": "2022-04-28T12:55:07.701858Z",
          "shell.execute_reply": "2022-04-28T12:55:07.702297Z"
        },
        "id": "b6076c42",
        "papermill": {
          "duration": 2.339285,
          "end_time": "2022-04-28T12:55:07.702484",
          "exception": false,
          "start_time": "2022-04-28T12:55:05.363199",
          "status": "completed"
        },
        "tags": []
      },
      "outputs": [],
      "source": [
        "import os\n",
        "\n",
        "import pandas as pd\n",
        "import seaborn as sn\n",
        "import torch\n",
        "from IPython.core.display import display\n",
        "from pytorch_lightning import LightningModule, Trainer\n",
        "from pytorch_lightning.callbacks.progress import TQDMProgressBar\n",
        "from pytorch_lightning.loggers import CSVLogger\n",
        "from torch import nn\n",
        "from torch.nn import functional as F\n",
        "from torch.utils.data import DataLoader, random_split\n",
        "from torchmetrics import Accuracy\n",
        "from torchvision import transforms\n",
        "from torchvision.datasets import MNIST\n",
        "\n",
        "PATH_DATASETS = os.environ.get(\"PATH_DATASETS\", \".\")\n",
        "BATCH_SIZE = 256 if torch.cuda.is_available() else 64"
      ]
    },
    {
      "cell_type": "code",
      "execution_count": 6,
      "id": "f9fce56b",
      "metadata": {
        "execution": {
          "iopub.execute_input": "2022-04-28T12:55:28.053056Z",
          "iopub.status.busy": "2022-04-28T12:55:28.042329Z",
          "iopub.status.idle": "2022-04-28T12:55:28.055187Z",
          "shell.execute_reply": "2022-04-28T12:55:28.055599Z"
        },
        "id": "f9fce56b",
        "papermill": {
          "duration": 0.052173,
          "end_time": "2022-04-28T12:55:28.055746",
          "exception": false,
          "start_time": "2022-04-28T12:55:28.003573",
          "status": "completed"
        },
        "tags": []
      },
      "outputs": [],
      "source": [
        "class LitMNIST(LightningModule):\n",
        "    def __init__(self, data_dir=PATH_DATASETS, hidden_size=64, learning_rate=2e-4):\n",
        "\n",
        "        super().__init__()\n",
        "\n",
        "        # Set our init args as class attributes\n",
        "        self.data_dir = data_dir\n",
        "        self.hidden_size = hidden_size\n",
        "        self.learning_rate = learning_rate\n",
        "\n",
        "        # Hardcode some dataset specific attributes\n",
        "        self.num_classes = 10\n",
        "        self.dims = (1, 28, 28)\n",
        "        channels, width, height = self.dims\n",
        "        self.transform = transforms.Compose(\n",
        "            [\n",
        "                transforms.ToTensor(),\n",
        "                transforms.Normalize((0.1307,), (0.3081,)),\n",
        "            ]\n",
        "        )\n",
        "\n",
        "        # Define PyTorch model\n",
        "        self.model = nn.Sequential(\n",
        "            nn.Flatten(),\n",
        "            nn.Linear(channels * width * height, hidden_size),\n",
        "            nn.ReLU(),\n",
        "            nn.Dropout(0.1),\n",
        "            nn.Linear(hidden_size, hidden_size),\n",
        "            nn.ReLU(),\n",
        "            nn.Dropout(0.1),\n",
        "            nn.Linear(hidden_size, self.num_classes),\n",
        "        )\n",
        "\n",
        "        self.val_accuracy = Accuracy()\n",
        "        self.test_accuracy = Accuracy()\n",
        "\n",
        "    def forward(self, x):\n",
        "        x = self.model(x)\n",
        "        return F.log_softmax(x, dim=1)\n",
        "\n",
        "    def training_step(self, batch, batch_idx):\n",
        "        x, y = batch\n",
        "        logits = self(x)\n",
        "        loss = F.nll_loss(logits, y)\n",
        "        return loss\n",
        "\n",
        "    def validation_step(self, batch, batch_idx):\n",
        "        x, y = batch\n",
        "        logits = self(x)\n",
        "        loss = F.nll_loss(logits, y)\n",
        "        preds = torch.argmax(logits, dim=1)\n",
        "        self.val_accuracy.update(preds, y)\n",
        "\n",
        "        # Calling self.log will surface up scalars for you in TensorBoard\n",
        "        self.log(\"val_loss\", loss, prog_bar=True)\n",
        "        self.log(\"val_acc\", self.val_accuracy, prog_bar=True)\n",
        "\n",
        "    def test_step(self, batch, batch_idx):\n",
        "        x, y = batch\n",
        "        logits = self(x)\n",
        "        loss = F.nll_loss(logits, y)\n",
        "        preds = torch.argmax(logits, dim=1)\n",
        "        self.test_accuracy.update(preds, y)\n",
        "\n",
        "        # Calling self.log will surface up scalars for you in TensorBoard\n",
        "        self.log(\"test_loss\", loss, prog_bar=True)\n",
        "        self.log(\"test_acc\", self.test_accuracy, prog_bar=True)\n",
        "\n",
        "    def configure_optimizers(self):\n",
        "        optimizer = torch.optim.Adam(self.parameters(), lr=self.learning_rate)\n",
        "        return optimizer\n",
        "\n",
        "    ####################\n",
        "    # DATA RELATED HOOKS\n",
        "    ####################\n",
        "\n",
        "    def prepare_data(self):\n",
        "        # download\n",
        "        MNIST(self.data_dir, train=True, download=True)\n",
        "        MNIST(self.data_dir, train=False, download=True)\n",
        "\n",
        "    def setup(self, stage=None):\n",
        "\n",
        "        # Assign train/val datasets for use in dataloaders\n",
        "        if stage == \"fit\" or stage is None:\n",
        "            mnist_full = MNIST(self.data_dir, train=True, transform=self.transform)\n",
        "            self.mnist_train, self.mnist_val = random_split(mnist_full, [55000, 5000])\n",
        "\n",
        "        # Assign test dataset for use in dataloader(s)\n",
        "        if stage == \"test\" or stage is None:\n",
        "            self.mnist_test = MNIST(self.data_dir, train=False, transform=self.transform)\n",
        "\n",
        "    def train_dataloader(self):\n",
        "        return DataLoader(self.mnist_train, batch_size=BATCH_SIZE)\n",
        "\n",
        "    def val_dataloader(self):\n",
        "        return DataLoader(self.mnist_val, batch_size=BATCH_SIZE)\n",
        "\n",
        "    def test_dataloader(self):\n",
        "        return DataLoader(self.mnist_test, batch_size=BATCH_SIZE)"
      ]
    },
    {
      "cell_type": "code",
      "execution_count": 7,
      "id": "66816adb",
      "metadata": {
        "colab": {
          "referenced_widgets": [
            "c913d5cdf1a84bf6aeb3ce66641ba038",
            "d94d7beaed274e70b3f4ce83a035f40d",
            "1b41411e37b44436adc2cdf8e9e56959",
            "a851416ba0bd49f6bd4537685cfec517",
            "b0f3fe4d77f945c7afb01e4f28a19fc8"
          ]
        },
        "execution": {
          "iopub.execute_input": "2022-04-28T12:55:28.141512Z",
          "iopub.status.busy": "2022-04-28T12:55:28.140982Z",
          "iopub.status.idle": "2022-04-28T12:56:00.878261Z",
          "shell.execute_reply": "2022-04-28T12:56:00.878683Z"
        },
        "id": "66816adb",
        "outputId": "30770589-01d5-495d-bd68-fe5d200353ff",
        "papermill": {
          "duration": 32.779357,
          "end_time": "2022-04-28T12:56:00.878860",
          "exception": false,
          "start_time": "2022-04-28T12:55:28.099503",
          "status": "completed"
        },
        "tags": []
      },
      "outputs": [
        {
          "name": "stderr",
          "output_type": "stream",
          "text": [
            "GPU available: False, used: False\n",
            "TPU available: False, using: 0 TPU cores\n",
            "IPU available: False, using: 0 IPUs\n",
            "HPU available: False, using: 0 HPUs\n",
            "\n",
            "  | Name          | Type       | Params\n",
            "---------------------------------------------\n",
            "0 | model         | Sequential | 55.1 K\n",
            "1 | val_accuracy  | Accuracy   | 0     \n",
            "2 | test_accuracy | Accuracy   | 0     \n",
            "---------------------------------------------\n",
            "55.1 K    Trainable params\n",
            "0         Non-trainable params\n",
            "55.1 K    Total params\n",
            "0.220     Total estimated model params size (MB)\n"
          ]
        },
        {
          "data": {
            "application/vnd.jupyter.widget-view+json": {
              "model_id": "2570b9d37e634beab354491f515ecd75",
              "version_major": 2,
              "version_minor": 0
            },
            "text/plain": [
              "Sanity Checking: 0it [00:00, ?it/s]"
            ]
          },
          "metadata": {},
          "output_type": "display_data"
        },
        {
          "name": "stderr",
          "output_type": "stream",
          "text": [
            "c:\\ProgramData\\Anaconda3\\envs\\lightning\\lib\\site-packages\\pytorch_lightning\\trainer\\connectors\\data_connector.py:245: PossibleUserWarning: The dataloader, val_dataloader 0, does not have many workers which may be a bottleneck. Consider increasing the value of the `num_workers` argument` (try 12 which is the number of cpus on this machine) in the `DataLoader` init to improve performance.\n",
            "  category=PossibleUserWarning,\n"
          ]
        },
        {
          "data": {
            "application/vnd.jupyter.widget-view+json": {
              "model_id": "a185a7ae5c5f4c16897795c6cd4a0e28",
              "version_major": 2,
              "version_minor": 0
            },
            "text/plain": [
              "Training: 0it [00:00, ?it/s]"
            ]
          },
          "metadata": {},
          "output_type": "display_data"
        },
        {
          "data": {
            "application/vnd.jupyter.widget-view+json": {
              "model_id": "6aeb48850bfe45e59cf3933ea30601ab",
              "version_major": 2,
              "version_minor": 0
            },
            "text/plain": [
              "Validation: 0it [00:00, ?it/s]"
            ]
          },
          "metadata": {},
          "output_type": "display_data"
        },
        {
          "data": {
            "application/vnd.jupyter.widget-view+json": {
              "model_id": "6206009ed0204d69ada50510e3e858da",
              "version_major": 2,
              "version_minor": 0
            },
            "text/plain": [
              "Validation: 0it [00:00, ?it/s]"
            ]
          },
          "metadata": {},
          "output_type": "display_data"
        },
        {
          "data": {
            "application/vnd.jupyter.widget-view+json": {
              "model_id": "100e3d32b22048738eda0ed2877df534",
              "version_major": 2,
              "version_minor": 0
            },
            "text/plain": [
              "Validation: 0it [00:00, ?it/s]"
            ]
          },
          "metadata": {},
          "output_type": "display_data"
        }
      ],
      "source": [
        "model = LitMNIST()\n",
        "trainer = Trainer(\n",
        "    accelerator=\"auto\",\n",
        "    devices=1 if torch.cuda.is_available() else None,  # limiting got iPython runs\n",
        "    max_epochs=3,\n",
        "    callbacks=[TQDMProgressBar(refresh_rate=20)],\n",
        "    logger=CSVLogger(save_dir=\"logs/\"),\n",
        ")\n",
        "trainer.fit(model)"
      ]
    },
    {
      "cell_type": "code",
      "execution_count": 8,
      "id": "6f31bbf6",
      "metadata": {
        "colab": {
          "referenced_widgets": [
            "46147a5285ee4712a703d338c52be49e"
          ]
        },
        "execution": {
          "iopub.execute_input": "2022-04-28T12:56:01.073612Z",
          "iopub.status.busy": "2022-04-28T12:56:01.072364Z",
          "iopub.status.idle": "2022-04-28T12:56:02.883287Z",
          "shell.execute_reply": "2022-04-28T12:56:02.883707Z"
        },
        "id": "6f31bbf6",
        "outputId": "434fd01d-db52-459a-a638-05b463cabe7f",
        "papermill": {
          "duration": 1.861867,
          "end_time": "2022-04-28T12:56:02.883878",
          "exception": false,
          "start_time": "2022-04-28T12:56:01.022011",
          "status": "completed"
        },
        "tags": []
      },
      "outputs": [
        {
          "name": "stderr",
          "output_type": "stream",
          "text": [
            "c:\\ProgramData\\Anaconda3\\envs\\lightning\\lib\\site-packages\\pytorch_lightning\\trainer\\trainer.py:1447: UserWarning: `.test(ckpt_path=None)` was called without a model. The best model of the previous `fit` call will be used. You can pass `test(ckpt_path='best')` to use and best model checkpoint and avoid this warning or `ckpt_path=trainer.checkpoint_callback.last_model_path` to use the last model.\n",
            "  f\"`.{fn}(ckpt_path=None)` was called without a model.\"\n",
            "Restoring states from the checkpoint path at logs/lightning_logs\\version_1\\checkpoints\\epoch=2-step=2580.ckpt\n",
            "Loaded model weights from checkpoint at logs/lightning_logs\\version_1\\checkpoints\\epoch=2-step=2580.ckpt\n",
            "c:\\ProgramData\\Anaconda3\\envs\\lightning\\lib\\site-packages\\pytorch_lightning\\trainer\\connectors\\data_connector.py:245: PossibleUserWarning: The dataloader, test_dataloader 0, does not have many workers which may be a bottleneck. Consider increasing the value of the `num_workers` argument` (try 12 which is the number of cpus on this machine) in the `DataLoader` init to improve performance.\n",
            "  category=PossibleUserWarning,\n"
          ]
        },
        {
          "data": {
            "application/vnd.jupyter.widget-view+json": {
              "model_id": "ff8c230a22414ec5ab222db31c19c66e",
              "version_major": 2,
              "version_minor": 0
            },
            "text/plain": [
              "Testing: 0it [00:00, ?it/s]"
            ]
          },
          "metadata": {},
          "output_type": "display_data"
        },
        {
          "name": "stdout",
          "output_type": "stream",
          "text": [
            "────────────────────────────────────────────────────────────────────────────────────────────────────────────────────────\n",
            "       Test metric             DataLoader 0\n",
            "────────────────────────────────────────────────────────────────────────────────────────────────────────────────────────\n",
            "        test_acc            0.9452000260353088\n",
            "        test_loss           0.17563694715499878\n",
            "────────────────────────────────────────────────────────────────────────────────────────────────────────────────────────\n"
          ]
        },
        {
          "data": {
            "text/plain": [
              "[{'test_loss': 0.17563694715499878, 'test_acc': 0.9452000260353088}]"
            ]
          },
          "execution_count": 8,
          "metadata": {},
          "output_type": "execute_result"
        }
      ],
      "source": [
        "trainer.test()"
      ]
    },
    {
      "cell_type": "code",
      "execution_count": 9,
      "id": "248d37f8",
      "metadata": {
        "execution": {
          "iopub.execute_input": "2022-04-28T12:56:03.519798Z",
          "iopub.status.busy": "2022-04-28T12:56:03.519287Z",
          "iopub.status.idle": "2022-04-28T12:56:03.863561Z",
          "shell.execute_reply": "2022-04-28T12:56:03.863975Z"
        },
        "id": "248d37f8",
        "outputId": "3145b3fb-617a-456a-fe8a-e42fbb29d802",
        "papermill": {
          "duration": 0.405875,
          "end_time": "2022-04-28T12:56:03.864175",
          "exception": false,
          "start_time": "2022-04-28T12:56:03.458300",
          "status": "completed"
        },
        "tags": []
      },
      "outputs": [
        {
          "data": {
            "text/html": [
              "<div>\n",
              "<style scoped>\n",
              "    .dataframe tbody tr th:only-of-type {\n",
              "        vertical-align: middle;\n",
              "    }\n",
              "\n",
              "    .dataframe tbody tr th {\n",
              "        vertical-align: top;\n",
              "    }\n",
              "\n",
              "    .dataframe thead th {\n",
              "        text-align: right;\n",
              "    }\n",
              "</style>\n",
              "<table border=\"1\" class=\"dataframe\">\n",
              "  <thead>\n",
              "    <tr style=\"text-align: right;\">\n",
              "      <th></th>\n",
              "      <th>val_loss</th>\n",
              "      <th>val_acc</th>\n",
              "      <th>test_loss</th>\n",
              "      <th>test_acc</th>\n",
              "    </tr>\n",
              "    <tr>\n",
              "      <th>epoch</th>\n",
              "      <th></th>\n",
              "      <th></th>\n",
              "      <th></th>\n",
              "      <th></th>\n",
              "    </tr>\n",
              "  </thead>\n",
              "  <tbody>\n",
              "    <tr>\n",
              "      <th>0</th>\n",
              "      <td>0.280737</td>\n",
              "      <td>0.9190</td>\n",
              "      <td>NaN</td>\n",
              "      <td>NaN</td>\n",
              "    </tr>\n",
              "    <tr>\n",
              "      <th>1</th>\n",
              "      <td>0.211837</td>\n",
              "      <td>0.9378</td>\n",
              "      <td>NaN</td>\n",
              "      <td>NaN</td>\n",
              "    </tr>\n",
              "    <tr>\n",
              "      <th>2</th>\n",
              "      <td>0.177298</td>\n",
              "      <td>0.9456</td>\n",
              "      <td>NaN</td>\n",
              "      <td>NaN</td>\n",
              "    </tr>\n",
              "    <tr>\n",
              "      <th>2</th>\n",
              "      <td>NaN</td>\n",
              "      <td>NaN</td>\n",
              "      <td>0.175637</td>\n",
              "      <td>0.9452</td>\n",
              "    </tr>\n",
              "  </tbody>\n",
              "</table>\n",
              "</div>"
            ],
            "text/plain": [
              "       val_loss  val_acc  test_loss  test_acc\n",
              "epoch                                        \n",
              "0      0.280737   0.9190        NaN       NaN\n",
              "1      0.211837   0.9378        NaN       NaN\n",
              "2      0.177298   0.9456        NaN       NaN\n",
              "2           NaN      NaN   0.175637    0.9452"
            ]
          },
          "metadata": {},
          "output_type": "display_data"
        },
        {
          "data": {
            "text/plain": [
              "<seaborn.axisgrid.FacetGrid at 0x29a007df508>"
            ]
          },
          "execution_count": 9,
          "metadata": {},
          "output_type": "execute_result"
        },
        {
          "data": {
            "image/png": "[encoded data removed]",
            "text/plain": [
              "<Figure size 439.5x360 with 1 Axes>"
            ]
          },
          "metadata": {
            "needs_background": "light"
          },
          "output_type": "display_data"
        }
      ],
      "source": [
        "# Validation Set의 Acc와 Loss 변화\n",
        "metrics = pd.read_csv(f\"{trainer.logger.log_dir}/metrics.csv\")\n",
        "del metrics[\"step\"]\n",
        "metrics.set_index(\"epoch\", inplace=True)\n",
        "display(metrics.dropna(axis=1, how=\"all\").head())\n",
        "sn.relplot(data=metrics, kind=\"line\")"
      ]
    }
  ],
  "metadata": {
    "colab": {
      "name": "mnist-hello-world.ipynb",
      "provenance": []
    },
    "jupytext": {
      "cell_metadata_filter": "colab_type,colab,id,-all",
      "formats": "ipynb,py:percent",
      "main_language": "python"
    },
    "kernelspec": {
      "display_name": "Python 3.9.12 64-bit (system)",
      "language": "python",
      "name": "python3"
    },
    "language_info": {
      "codemirror_mode": {
        "name": "ipython",
        "version": 3
      },
      "file_extension": ".py",
      "mimetype": "text/x-python",
      "name": "python",
      "nbconvert_exporter": "python",
      "pygments_lexer": "ipython3",
      "version": "3.7.13"
    },
    "papermill": {
      "default_parameters": {},
      "duration": 64.533867,
      "end_time": "2022-04-28T12:56:04.859046",
      "environment_variables": {},
      "exception": null,
      "input_path": "lightning_examples/mnist-hello-world/hello-world.ipynb",
      "output_path": ".notebooks/lightning_examples/mnist-hello-world.ipynb",
      "parameters": {},
      "start_time": "2022-04-28T12:55:00.325179",
      "version": "2.3.4"
    },
    "vscode": {
      "interpreter": {
        "hash": "f373dc0c853e69c16bc1d7e682a934bbb3a08d048ab3c54dfa88a879f6865ddb"
      }
    },
    "widgets": {
      "application/vnd.jupyter.widget-state+json": {}
    }
  },
  "nbformat": 4,
  "nbformat_minor": 5
}
